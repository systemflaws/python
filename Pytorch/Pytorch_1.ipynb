{
  "nbformat": 4,
  "nbformat_minor": 0,
  "metadata": {
    "colab": {
      "name": "Pytorch-1.ipynb",
      "provenance": [],
      "collapsed_sections": []
    },
    "kernelspec": {
      "name": "python3",
      "display_name": "Python 3"
    },
    "language_info": {
      "name": "python"
    },
    "accelerator": "GPU"
  },
  "cells": [
    {
      "cell_type": "code",
      "metadata": {
        "id": "AFiq2jjfXsf1"
      },
      "source": [
        "import torch\n",
        "import numpy as np"
      ],
      "execution_count": 18,
      "outputs": []
    },
    {
      "cell_type": "code",
      "metadata": {
        "colab": {
          "base_uri": "https://localhost:8080/"
        },
        "id": "pYwReIIeYXoS",
        "outputId": "6781bb9f-0e34-438e-f71b-088b6dc04384"
      },
      "source": [
        "mat = [[1,2],\n",
        "          [3,4],\n",
        "          [8,9]]\n",
        "print(mat)\n",
        "tensor_matrix = torch.Tensor(mat)\n",
        "print(type(mat))\n",
        "print(type(tensor_matrix))"
      ],
      "execution_count": 19,
      "outputs": [
        {
          "output_type": "stream",
          "text": [
            "[[1, 2], [3, 4], [8, 9]]\n",
            "<class 'list'>\n",
            "<class 'torch.Tensor'>\n"
          ],
          "name": "stdout"
        }
      ]
    },
    {
      "cell_type": "code",
      "metadata": {
        "colab": {
          "base_uri": "https://localhost:8080/"
        },
        "id": "w_ajLZz6ZGAQ",
        "outputId": "ee316d1c-5215-4c00-bb62-81d0fb75b70f"
      },
      "source": [
        "print(tensor_matrix)"
      ],
      "execution_count": 20,
      "outputs": [
        {
          "output_type": "stream",
          "text": [
            "tensor([[1., 2.],\n",
            "        [3., 4.],\n",
            "        [8., 9.]])\n"
          ],
          "name": "stdout"
        }
      ]
    },
    {
      "cell_type": "code",
      "metadata": {
        "colab": {
          "base_uri": "https://localhost:8080/"
        },
        "id": "fALm1MMgZL9h",
        "outputId": "a344b0d5-84b6-43c5-8f64-c454d8933fe7"
      },
      "source": [
        "np_mat = np.array(mat)\n",
        "mat_np_tensor = torch.from_numpy(np_mat)\n",
        "print(np_mat)\n",
        "print(mat_np_tensor)"
      ],
      "execution_count": 21,
      "outputs": [
        {
          "output_type": "stream",
          "text": [
            "[[1 2]\n",
            " [3 4]\n",
            " [8 9]]\n",
            "tensor([[1, 2],\n",
            "        [3, 4],\n",
            "        [8, 9]])\n"
          ],
          "name": "stdout"
        }
      ]
    },
    {
      "cell_type": "code",
      "metadata": {
        "colab": {
          "base_uri": "https://localhost:8080/"
        },
        "id": "vcyWqsKAZkSh",
        "outputId": "649ad972-e842-402b-d1ac-e4e78e0ca7d9"
      },
      "source": [
        "tensor_mat_zeros = torch.zeros(2,4)\n",
        "tensor_mat_random = torch.rand(2,5)\n",
        "tensor_mat_random_int = torch.randint(2, 10, (2,4))\n",
        "tensor_mat_ones = torch.ones(2,3)\n",
        "print(tensor_mat_zeros)\n",
        "print(tensor_mat_random)\n",
        "print(tensor_mat_random_int)\n",
        "print(tensor_mat_ones)"
      ],
      "execution_count": 22,
      "outputs": [
        {
          "output_type": "stream",
          "text": [
            "tensor([[0., 0., 0., 0.],\n",
            "        [0., 0., 0., 0.]])\n",
            "tensor([[0.6358, 0.3092, 0.1776, 0.1995, 0.2560],\n",
            "        [0.7650, 0.6372, 0.2796, 0.1189, 0.2275]])\n",
            "tensor([[8, 5, 4, 2],\n",
            "        [5, 5, 5, 2]])\n",
            "tensor([[1., 1., 1.],\n",
            "        [1., 1., 1.]])\n"
          ],
          "name": "stdout"
        }
      ]
    },
    {
      "cell_type": "code",
      "metadata": {
        "colab": {
          "base_uri": "https://localhost:8080/"
        },
        "id": "n4S3LFt-Z_rq",
        "outputId": "a2d19ea2-2773-4322-cf1e-7dd1468ffe63"
      },
      "source": [
        "print(tensor_mat_zeros.dtype)\n",
        "print(tensor_mat_random.dtype)\n",
        "print(tensor_mat_random_int.dtype)"
      ],
      "execution_count": 23,
      "outputs": [
        {
          "output_type": "stream",
          "text": [
            "torch.float32\n",
            "torch.float32\n",
            "torch.int64\n"
          ],
          "name": "stdout"
        }
      ]
    },
    {
      "cell_type": "code",
      "metadata": {
        "colab": {
          "base_uri": "https://localhost:8080/"
        },
        "id": "_F0MAlp9atOy",
        "outputId": "ab2f2603-2db9-4811-b229-520f611c04a4"
      },
      "source": [
        "print(tensor_matrix.device)"
      ],
      "execution_count": 24,
      "outputs": [
        {
          "output_type": "stream",
          "text": [
            "cpu\n"
          ],
          "name": "stdout"
        }
      ]
    },
    {
      "cell_type": "code",
      "metadata": {
        "colab": {
          "base_uri": "https://localhost:8080/"
        },
        "id": "c5LQ8C5Aa1Jx",
        "outputId": "21d7dee9-6c5b-48d1-cdb6-609e548ad264"
      },
      "source": [
        "tensor_mat_gpu = tensor_matrix.to('cuda')\n",
        "print(tensor_mat_gpu.device)\n",
        "# But the older one reside in cpu and we have only one gpu"
      ],
      "execution_count": 25,
      "outputs": [
        {
          "output_type": "stream",
          "text": [
            "cuda:0\n"
          ],
          "name": "stdout"
        }
      ]
    },
    {
      "cell_type": "code",
      "metadata": {
        "colab": {
          "base_uri": "https://localhost:8080/"
        },
        "id": "q_83ebH1bQ9Z",
        "outputId": "8d4156fa-50c7-4104-b8af-8c35d0541558"
      },
      "source": [
        "# Shape\n",
        "print(tensor_mat_gpu.shape)"
      ],
      "execution_count": 26,
      "outputs": [
        {
          "output_type": "stream",
          "text": [
            "torch.Size([3, 2])\n"
          ],
          "name": "stdout"
        }
      ]
    },
    {
      "cell_type": "code",
      "metadata": {
        "colab": {
          "base_uri": "https://localhost:8080/"
        },
        "id": "LNJP81OMbXrK",
        "outputId": "0f718c0a-2841-4d94-8947-b182f90e0503"
      },
      "source": [
        "print(tensor_mat_gpu.stride())\n",
        "print(tensor_mat_gpu.t().stride())"
      ],
      "execution_count": 27,
      "outputs": [
        {
          "output_type": "stream",
          "text": [
            "(2, 1)\n",
            "(1, 2)\n"
          ],
          "name": "stdout"
        }
      ]
    },
    {
      "cell_type": "code",
      "metadata": {
        "colab": {
          "base_uri": "https://localhost:8080/"
        },
        "id": "oG_FYr6UbjCS",
        "outputId": "0d42e0e5-452b-43cc-d7ac-42ef66722a3d"
      },
      "source": [
        "!nvidia-smi"
      ],
      "execution_count": 28,
      "outputs": [
        {
          "output_type": "stream",
          "text": [
            "Fri Jul  2 03:25:36 2021       \n",
            "+-----------------------------------------------------------------------------+\n",
            "| NVIDIA-SMI 465.27       Driver Version: 460.32.03    CUDA Version: 11.2     |\n",
            "|-------------------------------+----------------------+----------------------+\n",
            "| GPU  Name        Persistence-M| Bus-Id        Disp.A | Volatile Uncorr. ECC |\n",
            "| Fan  Temp  Perf  Pwr:Usage/Cap|         Memory-Usage | GPU-Util  Compute M. |\n",
            "|                               |                      |               MIG M. |\n",
            "|===============================+======================+======================|\n",
            "|   0  Tesla T4            Off  | 00000000:00:04.0 Off |                    0 |\n",
            "| N/A   48C    P0    28W /  70W |   1068MiB / 15109MiB |      1%      Default |\n",
            "|                               |                      |                  N/A |\n",
            "+-------------------------------+----------------------+----------------------+\n",
            "                                                                               \n",
            "+-----------------------------------------------------------------------------+\n",
            "| Processes:                                                                  |\n",
            "|  GPU   GI   CI        PID   Type   Process name                  GPU Memory |\n",
            "|        ID   ID                                                   Usage      |\n",
            "|=============================================================================|\n",
            "+-----------------------------------------------------------------------------+\n"
          ],
          "name": "stdout"
        }
      ]
    },
    {
      "cell_type": "code",
      "metadata": {
        "colab": {
          "base_uri": "https://localhost:8080/"
        },
        "id": "Y2NaCvmTbqaB",
        "outputId": "ed027e45-d2b0-4cec-bd24-0be39e087429"
      },
      "source": [
        "tensor_new_matrix = torch.ones(4,5)\n",
        "print(tensor_new_matrix)\n",
        "print(tensor_new_matrix.shape)\n",
        "tensor_new_matrix_slice = tensor_new_matrix[:3, :4]\n",
        "print(tensor_new_matrix_slice)\n",
        "print(tensor_new_matrix_slice.shape)"
      ],
      "execution_count": 29,
      "outputs": [
        {
          "output_type": "stream",
          "text": [
            "tensor([[1., 1., 1., 1., 1.],\n",
            "        [1., 1., 1., 1., 1.],\n",
            "        [1., 1., 1., 1., 1.],\n",
            "        [1., 1., 1., 1., 1.]])\n",
            "torch.Size([4, 5])\n",
            "tensor([[1., 1., 1., 1.],\n",
            "        [1., 1., 1., 1.],\n",
            "        [1., 1., 1., 1.]])\n",
            "torch.Size([3, 4])\n"
          ],
          "name": "stdout"
        }
      ]
    },
    {
      "cell_type": "code",
      "metadata": {
        "colab": {
          "base_uri": "https://localhost:8080/"
        },
        "id": "imlsFm_2cHJK",
        "outputId": "460792f2-0de9-4f9a-8835-93d27f3818ee"
      },
      "source": [
        "# Concatenation\n",
        "rand_input_1 = torch.ones(2,3)\n",
        "rand_input_2 = torch.zeros(2,5)\n",
        "print(torch.cat([rand_input_1, rand_input_2], dim = 1))"
      ],
      "execution_count": 30,
      "outputs": [
        {
          "output_type": "stream",
          "text": [
            "tensor([[1., 1., 1., 0., 0., 0., 0., 0.],\n",
            "        [1., 1., 1., 0., 0., 0., 0., 0.]])\n"
          ],
          "name": "stdout"
        }
      ]
    },
    {
      "cell_type": "code",
      "metadata": {
        "colab": {
          "base_uri": "https://localhost:8080/"
        },
        "id": "nwOXJeoLcvnq",
        "outputId": "224398b7-5473-403f-d513-33a65755c2bd"
      },
      "source": [
        "rand_input_3 = torch.ones(4,5)\n",
        "rand_input_4 = torch.rand(2,5)\n",
        "print(torch.cat([rand_input_3, rand_input_4]))\n",
        "# print(torch.cat([rand_input_3, rand_input_4], dim = 0))"
      ],
      "execution_count": 31,
      "outputs": [
        {
          "output_type": "stream",
          "text": [
            "tensor([[1.0000, 1.0000, 1.0000, 1.0000, 1.0000],\n",
            "        [1.0000, 1.0000, 1.0000, 1.0000, 1.0000],\n",
            "        [1.0000, 1.0000, 1.0000, 1.0000, 1.0000],\n",
            "        [1.0000, 1.0000, 1.0000, 1.0000, 1.0000],\n",
            "        [0.6545, 0.1342, 0.4202, 0.7681, 0.5468],\n",
            "        [0.4009, 0.9706, 0.2912, 0.3155, 0.8664]])\n"
          ],
          "name": "stdout"
        }
      ]
    },
    {
      "cell_type": "code",
      "metadata": {
        "colab": {
          "base_uri": "https://localhost:8080/"
        },
        "id": "2sVoNPVNNhRm",
        "outputId": "754bc225-1e86-4087-975d-af1fafe70c59"
      },
      "source": [
        "# Multiplication\n",
        "\n",
        "tensor1 = torch.ones(3,4)\n",
        "tensor2 = torch.ones(1,4)\n",
        "\n",
        "''' Two-Types of Multiplication\n",
        "1. Elementwise,\n",
        "2. Dot Product like Matrix multiplication.\n",
        "'''\n",
        "tensor_ew = tensor1 * tensor2\n",
        "# tensor_dp = tensor1.matmul(tensor2)\n",
        "# Upper one will not work beause of dimention problem\n",
        "tensor3 = torch.ones(4, 5)\n",
        "tensor_dp = tensor1.matmul(tensor3)\n",
        "print(\"tensor element wise multiplication.\")\n",
        "print(tensor_ew)\n",
        "print(\"shape of tensor element wise multiplication output\", tensor_ew.shape)\n",
        "print()\n",
        "print(\"tensor dot product multiplication.\")\n",
        "print(tensor_dp)\n",
        "print(\"shape of tensor dot product multiplication.\", tensor_dp.shape)"
      ],
      "execution_count": 32,
      "outputs": [
        {
          "output_type": "stream",
          "text": [
            "tensor element wise multiplication.\n",
            "tensor([[1., 1., 1., 1.],\n",
            "        [1., 1., 1., 1.],\n",
            "        [1., 1., 1., 1.]])\n",
            "shape of tensor element wise multiplication output torch.Size([3, 4])\n",
            "\n",
            "tensor dot product multiplication.\n",
            "tensor([[4., 4., 4., 4., 4.],\n",
            "        [4., 4., 4., 4., 4.],\n",
            "        [4., 4., 4., 4., 4.]])\n",
            "shape of tensor dot product multiplication. torch.Size([3, 5])\n"
          ],
          "name": "stdout"
        }
      ]
    },
    {
      "cell_type": "code",
      "metadata": {
        "colab": {
          "base_uri": "https://localhost:8080/"
        },
        "id": "Ud5dZKE_OqQI",
        "outputId": "195d7733-e865-40d3-82c7-cb185aba425e"
      },
      "source": [
        "# In-place Multiplication\n",
        "inplace_tensor = 9 * torch.ones(2,3) + 1\n",
        "print(inplace_tensor)\n",
        "# This will not work inplace_tensor.add(number)\n",
        "\n",
        "inplace_tensor.add_(8)\n",
        "inplace_tensor.mul_(10)\n",
        "inplace_tensor.sub_(90)\n",
        "inplace_tensor.div_(10)\n",
        "print(inplace_tensor)"
      ],
      "execution_count": 33,
      "outputs": [
        {
          "output_type": "stream",
          "text": [
            "tensor([[10., 10., 10.],\n",
            "        [10., 10., 10.]])\n",
            "tensor([[9., 9., 9.],\n",
            "        [9., 9., 9.]])\n"
          ],
          "name": "stdout"
        }
      ]
    },
    {
      "cell_type": "code",
      "metadata": {
        "colab": {
          "base_uri": "https://localhost:8080/"
        },
        "id": "MrQQ4GaBPQUO",
        "outputId": "0949d6d2-997a-46a7-c55a-334434341835"
      },
      "source": [
        "# Numpy Bridge\n",
        "'''\n",
        "torch supports all operations supported by Numpy. \n",
        "Initially, we constructed our tensor from a numpy array. \n",
        "To allow easy facilitation and switching between numpy and torch numpy bridge is created to ensure that all changes in numpy.ndarray are reflected in torch.\n",
        "Tensor and so on. This is done by having a common pointer.\n",
        "'''\n",
        "\n",
        "torchtensor = torch.ones(5)\n",
        "numpyarray = torchtensor.numpy()\n",
        "print(numpyarray)\n",
        "torchtensor.sub_(2)\n",
        "print(numpyarray)"
      ],
      "execution_count": 34,
      "outputs": [
        {
          "output_type": "stream",
          "text": [
            "[1. 1. 1. 1. 1.]\n",
            "[-1. -1. -1. -1. -1.]\n"
          ],
          "name": "stdout"
        }
      ]
    }
  ]
}